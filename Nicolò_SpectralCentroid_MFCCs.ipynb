{
  "nbformat": 4,
  "nbformat_minor": 0,
  "metadata": {
    "colab": {
      "name": "Nicolò_SpectralCentroid_MFCCs.ipynb",
      "provenance": [],
      "collapsed_sections": [],
      "authorship_tag": "ABX9TyO8X6plxIREMXGgjtq/fi5b",
      "include_colab_link": true
    },
    "kernelspec": {
      "name": "python3",
      "display_name": "Python 3"
    }
  },
  "cells": [
    {
      "cell_type": "markdown",
      "metadata": {
        "id": "view-in-github",
        "colab_type": "text"
      },
      "source": [
        "<a href=\"https://colab.research.google.com/github/CeciliaMarson/CMLS-Homework1/blob/master/Nicol%C3%B2_SpectralCentroid_MFCCs.ipynb\" target=\"_parent\"><img src=\"https://colab.research.google.com/assets/colab-badge.svg\" alt=\"Open In Colab\"/></a>"
      ]
    },
    {
      "cell_type": "code",
      "metadata": {
        "id": "B4ohUtqEEFEJ",
        "colab_type": "code",
        "colab": {}
      },
      "source": [
        "import numpy as np\n",
        "import librosa\n",
        "import os\n",
        "import matplotlib.pyplot as plt\n",
        "import sklearn.svm\n",
        "import IPython.display as ipd\n",
        "import scipy as sp\n",
        "import pandas as pd\n",
        "from sklearn import datasets\n",
        "import math\n",
        "import csv"
      ],
      "execution_count": 0,
      "outputs": []
    },
    {
      "cell_type": "code",
      "metadata": {
        "id": "Tnk4yv5fELI1",
        "colab_type": "code",
        "colab": {}
      },
      "source": [
        "!wget --no-check-certificate -r \"http://cvml.unige.ch/databases/DEAM/features.zip\" -O \"Input.zip\" "
      ],
      "execution_count": 0,
      "outputs": []
    },
    {
      "cell_type": "code",
      "metadata": {
        "id": "kEEV4I5REPBJ",
        "colab_type": "code",
        "colab": {}
      },
      "source": [
        "!wget --no-check-certificate -r \"http://cvml.unige.ch/databases/DEAM/DEAM_audio.zip\" -O \"Input2.zip\" "
      ],
      "execution_count": 0,
      "outputs": []
    },
    {
      "cell_type": "code",
      "metadata": {
        "id": "1iFZH_RUESMM",
        "colab_type": "code",
        "colab": {}
      },
      "source": [
        "!wget --no-check-certificate -r \"http://cvml.unige.ch/databases/DEAM/DEAM_Annotations.zip\" -O \"Input1.zip\" "
      ],
      "execution_count": 0,
      "outputs": []
    },
    {
      "cell_type": "code",
      "metadata": {
        "id": "SSs-aeAWEVC5",
        "colab_type": "code",
        "colab": {}
      },
      "source": [
        "!unzip Input.zip\n",
        "!unzip Input1.zip\n",
        "!unzip Input2.zip"
      ],
      "execution_count": 0,
      "outputs": []
    },
    {
      "cell_type": "code",
      "metadata": {
        "id": "thaTCOjoEv-N",
        "colab_type": "code",
        "colab": {}
      },
      "source": [
        "#SORTING THE AUDIO FILES\n",
        "array_str1=[]\n",
        "for i in np.arange(2,2000):\n",
        "  array_str1.append(str(i)+\".mp3\")\n",
        "\n",
        "audio_root = '/content/MEMD_audio/'\n",
        "class_audio_files = [f for f in os.listdir(audio_root) if f in array_str1]\n",
        "n_audio_samples1 = len(class_audio_files)\n",
        "\n",
        "a1=class_audio_files\n",
        "for i in np.arange(0,n_audio_samples1):\n",
        "  for j in range(0, n_audio_samples1-i-1):\n",
        "    b1=a1[j]\n",
        "    c1=a1[j+1]\n",
        "    if int(b1[:-4]) > int(c1[:-4]) :\n",
        "      a1[j], a1[j+1] = a1[j+1], a1[j]\n",
        "\n",
        "class_audio_files=a1 \n",
        "len(class_audio_files)"
      ],
      "execution_count": 0,
      "outputs": []
    },
    {
      "cell_type": "code",
      "metadata": {
        "id": "x4zTaqpZEyl0",
        "colab_type": "code",
        "colab": {}
      },
      "source": [
        "#SPECTRAL CENTROID\n",
        "spectralcentroid_mean=[]\n",
        "spectralcentroid_std=[]\n",
        "for index, f in enumerate(class_audio_files[0:5]): #only for 5 songs just to try\n",
        "    audio, fs = librosa.load(os.path.join(audio_root, f), sr=None)\n",
        "    cent = librosa.feature.spectral_centroid(y=audio, sr=fs, S=None, n_fft=1024, hop_length=512)\n",
        "    spectralcentroid_mean.append(np.mean(cent))\n",
        "    spectralcentroid_std.append(np.std(cent))\n",
        "print(spectralcentroid_mean)\n",
        "print(spectralcentroid_std)"
      ],
      "execution_count": 0,
      "outputs": []
    },
    {
      "cell_type": "code",
      "metadata": {
        "id": "iezAtlnBE1MZ",
        "colab_type": "code",
        "colab": {}
      },
      "source": [
        "#MFCCs\n",
        "mfcc_mean=[]\n",
        "mfcc_std=[]\n",
        "for index, f in enumerate(class_audio_files[0:5]): #only for 5 songs just to try\n",
        "    audio, fs = librosa.load(os.path.join(audio_root, f), sr=None)\n",
        "    mfcc = librosa.feature.mfcc(y=audio, sr=fs, S=None, n_mfcc=20, dct_type=2, norm='ortho')\n",
        "    mfcc_mean.append(np.mean(mfcc,axis=1))\n",
        "    mfcc_std.append(np.std(mfcc, axis=1))\n",
        "print(mfcc_mean)\n",
        "print(mfcc_std)\n",
        "                  "
      ],
      "execution_count": 0,
      "outputs": []
    }
  ]
}