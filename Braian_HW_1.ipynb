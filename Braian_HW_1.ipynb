{
  "nbformat": 4,
  "nbformat_minor": 0,
  "metadata": {
    "kernelspec": {
      "name": "python3",
      "display_name": "Python 3"
    },
    "language_info": {
      "codemirror_mode": {
        "name": "ipython",
        "version": 3
      },
      "file_extension": ".py",
      "mimetype": "text/x-python",
      "name": "python",
      "nbconvert_exporter": "python",
      "pygments_lexer": "ipython3",
      "version": "3.8.1"
    },
    "colab": {
      "name": "Braian_HW 1.ipynb",
      "provenance": [],
      "private_outputs": true,
      "collapsed_sections": [],
      "include_colab_link": true
    }
  },
  "cells": [
    {
      "cell_type": "markdown",
      "metadata": {
        "id": "view-in-github",
        "colab_type": "text"
      },
      "source": [
        "<a href=\"https://colab.research.google.com/github/CeciliaMarson/CMLS-Homework1/blob/master/Braian_HW_1.ipynb\" target=\"_parent\"><img src=\"https://colab.research.google.com/assets/colab-badge.svg\" alt=\"Open In Colab\"/></a>"
      ]
    },
    {
      "cell_type": "markdown",
      "metadata": {
        "id": "_mUOrAYas_mL",
        "colab_type": "text"
      },
      "source": [
        "# Homework 1 - Computer Music (Valence and Arousal Classification)"
      ]
    },
    {
      "cell_type": "code",
      "metadata": {
        "id": "zkd5eD5Ys_mO",
        "colab_type": "code",
        "colab": {}
      },
      "source": [
        "import numpy as np\n",
        "import librosa, librosa.display\n",
        "import os\n",
        "import matplotlib.pyplot as plt\n",
        "import sklearn.svm\n",
        "import IPython.display as ipd\n",
        "import scipy as sp"
      ],
      "execution_count": 0,
      "outputs": []
    },
    {
      "cell_type": "code",
      "metadata": {
        "id": "w7TWXgxPu4lB",
        "colab_type": "code",
        "colab": {}
      },
      "source": [
        "!wget --no-check-certificate -r \"https://drive.google.com/uc?id=12MCAyfZxquIK-dkmOX3Mi9AC2SBSJ2bG&export=download\" -O \"MEMD_audio.zip\" "
      ],
      "execution_count": 0,
      "outputs": []
    },
    {
      "cell_type": "code",
      "metadata": {
        "id": "Qzb5uFO4vpg5",
        "colab_type": "code",
        "colab": {}
      },
      "source": [
        "!unzip MEMD_audio.zip"
      ],
      "execution_count": 0,
      "outputs": []
    },
    {
      "cell_type": "code",
      "metadata": {
        "id": "yIEy_TVlnK8n",
        "colab_type": "code",
        "colab": {}
      },
      "source": [
        "\n",
        "ipd.Audio('/content/1984.mp3') #NINE INCH NAILS!!!!!! <3"
      ],
      "execution_count": 0,
      "outputs": []
    },
    {
      "cell_type": "markdown",
      "metadata": {
        "id": "ax7y26_ks_mR",
        "colab_type": "text"
      },
      "source": [
        "# Feature definition"
      ]
    },
    {
      "cell_type": "markdown",
      "metadata": {
        "id": "nYLzHuuK3k4n",
        "colab_type": "text"
      },
      "source": [
        "### Define parameters and variables for feature computation"
      ]
    },
    {
      "cell_type": "code",
      "metadata": {
        "id": "H-oAt0tuQdp4",
        "colab_type": "code",
        "colab": {}
      },
      "source": [
        "from sklearn.model_selection import train_test_split\n",
        "songs = '/content/'\n",
        "all_songs = [f for f in os.listdir(songs) if f.endswith('.mp3')]\n",
        "songs_train, songs_test = train_test_split(all_songs, test_size=0.99)\n"
      ],
      "execution_count": 0,
      "outputs": []
    },
    {
      "cell_type": "code",
      "metadata": {
        "id": "r8UQgpaOQj5M",
        "colab_type": "code",
        "colab": {}
      },
      "source": [
        "  for index, f in enumerate(songs_train):\n",
        "    audio, fs = librosa.load(os.path.join(songs, f), sr=None)\n",
        "    roll = librosa.feature.spectral_rolloff(audio, sr=fs, S=None, n_fft=1024, hop_length=512, freq=None, roll_percent=0.75)\n",
        "    zcr =  librosa.feature.zero_crossing_rate(audio, frame_length=1024, hop_length=512, center=True)\n"
      ],
      "execution_count": 0,
      "outputs": []
    },
    {
      "cell_type": "code",
      "metadata": {
        "id": "G2mfH2ELtPcg",
        "colab_type": "code",
        "colab": {}
      },
      "source": [
        "roll.T"
      ],
      "execution_count": 0,
      "outputs": []
    },
    {
      "cell_type": "code",
      "metadata": {
        "id": "CVOzEuREr4QN",
        "colab_type": "code",
        "colab": {}
      },
      "source": [
        "np.savetxt(\"1985_roll_csv.csv\", roll.T, delimiter=\",\")"
      ],
      "execution_count": 0,
      "outputs": []
    },
    {
      "cell_type": "markdown",
      "metadata": {
        "id": "_PeXRTB-s_mV",
        "colab_type": "text"
      },
      "source": [
        "### Compute training features"
      ]
    }
  ]
}