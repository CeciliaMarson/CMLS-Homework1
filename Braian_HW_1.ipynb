{
  "nbformat": 4,
  "nbformat_minor": 0,
  "metadata": {
    "kernelspec": {
      "name": "python3",
      "display_name": "Python 3"
    },
    "language_info": {
      "codemirror_mode": {
        "name": "ipython",
        "version": 3
      },
      "file_extension": ".py",
      "mimetype": "text/x-python",
      "name": "python",
      "nbconvert_exporter": "python",
      "pygments_lexer": "ipython3",
      "version": "3.8.1"
    },
    "colab": {
      "name": "Braian_HW 1.ipynb",
      "provenance": [],
      "private_outputs": true,
      "collapsed_sections": [],
      "toc_visible": true,
      "include_colab_link": true
    }
  },
  "cells": [
    {
      "cell_type": "markdown",
      "metadata": {
        "id": "view-in-github",
        "colab_type": "text"
      },
      "source": [
        "<a href=\"https://colab.research.google.com/github/CeciliaMarson/CMLS-Homework1/blob/master/Braian_HW_1.ipynb\" target=\"_parent\"><img src=\"https://colab.research.google.com/assets/colab-badge.svg\" alt=\"Open In Colab\"/></a>"
      ]
    },
    {
      "cell_type": "markdown",
      "metadata": {
        "id": "_mUOrAYas_mL",
        "colab_type": "text"
      },
      "source": [
        "# Homework 1 - Computer Music (Valence and Arousal Classification)"
      ]
    },
    {
      "cell_type": "code",
      "metadata": {
        "id": "zkd5eD5Ys_mO",
        "colab_type": "code",
        "colab": {}
      },
      "source": [
        "import numpy as np\n",
        "import librosa, librosa.display\n",
        "import os\n",
        "import matplotlib.pyplot as plt\n",
        "import sklearn.svm\n",
        "import IPython.display as ipd\n",
        "import scipy as sp\n",
        "import pandas as pd\n",
        "import csv\n",
        "import seaborn as seabornInstance\n",
        "import seaborn as sns"
      ],
      "execution_count": 0,
      "outputs": []
    },
    {
      "cell_type": "code",
      "metadata": {
        "id": "w7TWXgxPu4lB",
        "colab_type": "code",
        "colab": {}
      },
      "source": [
        "!wget --no-check-certificate -r \"https://drive.google.com/uc?id=12MCAyfZxquIK-dkmOX3Mi9AC2SBSJ2bG&export=download\" -O \"MEMD_audio.zip\" "
      ],
      "execution_count": 0,
      "outputs": []
    },
    {
      "cell_type": "code",
      "metadata": {
        "id": "_ZNSpdMLhd--",
        "colab_type": "code",
        "colab": {}
      },
      "source": [
        "!wget --no-check-certificate -r \"https://drive.google.com/u/0/uc?id=10CfTAIlhD1bWER1temxNYcda7lfNupt3&export=download\" -O \"annotations.zip\""
      ],
      "execution_count": 0,
      "outputs": []
    },
    {
      "cell_type": "code",
      "metadata": {
        "id": "Qzb5uFO4vpg5",
        "colab_type": "code",
        "colab": {}
      },
      "source": [
        "!unzip MEMD_audio.zip"
      ],
      "execution_count": 0,
      "outputs": []
    },
    {
      "cell_type": "code",
      "metadata": {
        "id": "G5sf23eYheT5",
        "colab_type": "code",
        "colab": {}
      },
      "source": [
        "!unzip annotations.zip"
      ],
      "execution_count": 0,
      "outputs": []
    },
    {
      "cell_type": "code",
      "metadata": {
        "id": "yIEy_TVlnK8n",
        "colab_type": "code",
        "colab": {}
      },
      "source": [
        "\n",
        "ipd.Audio('/content/1984.mp3') #NINE INCH NAILS!!!!!! <3"
      ],
      "execution_count": 0,
      "outputs": []
    },
    {
      "cell_type": "markdown",
      "metadata": {
        "id": "ax7y26_ks_mR",
        "colab_type": "text"
      },
      "source": [
        "# Feature definition"
      ]
    },
    {
      "cell_type": "markdown",
      "metadata": {
        "id": "nYLzHuuK3k4n",
        "colab_type": "text"
      },
      "source": [
        "### Define parameters and variables for feature computation"
      ]
    },
    {
      "cell_type": "code",
      "metadata": {
        "id": "qgM6rqfO7GtR",
        "colab_type": "code",
        "colab": {}
      },
      "source": [
        "# get dataframe from annotations file\n",
        "annotations = pd.read_csv('/content/annotations/annotations averaged per song/song_level/static_annotations_averaged_songs_1_2000.csv')\n",
        "annotations.head()"
      ],
      "execution_count": 0,
      "outputs": []
    },
    {
      "cell_type": "code",
      "metadata": {
        "id": "H-oAt0tuQdp4",
        "colab_type": "code",
        "colab": {}
      },
      "source": [
        "from sklearn.model_selection import train_test_split\n",
        "songs = '/content/'\n",
        "all_songs = [f for f in os.listdir(songs) if f.endswith('.mp3')]\n",
        "songs_train, songs_test = train_test_split(all_songs, test_size=0.99)"
      ],
      "execution_count": 0,
      "outputs": []
    },
    {
      "cell_type": "code",
      "metadata": {
        "id": "MiN_wB4XJIDl",
        "colab_type": "code",
        "colab": {}
      },
      "source": [
        "header = 'song rolloff zero_crossing_rate spectral_centroid spectral_bandwidth'\n",
        "for i in range(1, 14):\n",
        "    header += f' mfcc{i}'\n",
        "header = header.split()"
      ],
      "execution_count": 0,
      "outputs": []
    },
    {
      "cell_type": "code",
      "metadata": {
        "id": "r8UQgpaOQj5M",
        "colab_type": "code",
        "colab": {}
      },
      "source": [
        "#DO NOT COMPUTE, TAKES A SHIT LOAD OF TIME, USE FEATURES - BRAIAN_NICCOLO.CSV FILE\n",
        "file = open('features.csv', 'w', newline='')\n",
        "with file:\n",
        "    writer = csv.writer(file)\n",
        "    writer.writerow(header)\n",
        "\n",
        "for index, f in enumerate(all_songs):\n",
        "    audio, fs = librosa.load(os.path.join(songs, f), sr=None)\n",
        "    roll = librosa.feature.spectral_rolloff(audio, sr=fs, S=None, n_fft=1024, hop_length=512, freq=None, roll_percent=0.85)\n",
        "    zcr =  librosa.feature.zero_crossing_rate(audio, frame_length=1024, hop_length=512, center=True)\n",
        "    cent = librosa.feature.spectral_centroid(y=audio, sr=fs, S=None, n_fft=1024, hop_length=512)\n",
        "    bw = librosa.feature.spectral_bandwidth(y=audio, sr=fs)\n",
        "    mfcc = librosa.feature.mfcc(y=audio, sr=fs, S=None, n_mfcc=13, dct_type=2, norm='ortho')\n",
        "    to_append = f'{f} {np.mean(roll)} {np.mean(zcr)} {np.mean(cent)} {np.mean(bw)}'    \n",
        "    for e in mfcc:\n",
        "            to_append += f' {np.mean(e)}'\n",
        "    file = open('features.csv', 'a', newline='')\n",
        "    with file:\n",
        "        writer = csv.writer(file)\n",
        "        writer.writerow(to_append.split())"
      ],
      "execution_count": 0,
      "outputs": []
    },
    {
      "cell_type": "code",
      "metadata": {
        "id": "FQj5PkbxHJe5",
        "colab_type": "code",
        "colab": {}
      },
      "source": [
        "features_file = pd.read_csv('/content/features - ABN.csv')\n",
        "#features_file[['rolloff', 'zero_crossing_rate', 'spectral_centroid', 'spectral_bandwidth', 'onset_', 'tempo', 'mfcc1', 'mfcc2', 'mfcc3', 'mfcc4', 'mfcc5', 'mfcc6', 'mfcc7', 'mfcc8', 'mfcc9', 'mfcc10', 'mfcc11', 'mfcc12', 'mfcc13']].values\n",
        "#feat_array = features_file[['rolloff', 'zero_crossing_rate', 'spectral_centroid', 'spectral_bandwidth', 'onset_']].values\n",
        "feat_array = np.array(features_file)"
      ],
      "execution_count": 0,
      "outputs": []
    },
    {
      "cell_type": "code",
      "metadata": {
        "id": "XZUxFNxPROhd",
        "colab_type": "code",
        "colab": {}
      },
      "source": [
        "annot = annotations[' arousal_mean'].values"
      ],
      "execution_count": 0,
      "outputs": []
    },
    {
      "cell_type": "code",
      "metadata": {
        "id": "5M6ePXYjxnME",
        "colab_type": "code",
        "colab": {}
      },
      "source": [
        "t_ft_max = np.max(feat_array, axis=0)\n",
        "t_ft_min = np.min(feat_array, axis=0)\n",
        "feat_array_norm = (feat_array - t_ft_min) / (t_ft_max - t_ft_min)\n",
        "X = feat_array_norm\n",
        "\n",
        "t_an_max = np.max(annot, axis=0)\n",
        "t_an_min = np.min(annot, axis=0)\n",
        "annot_norm = (annot - t_an_min) / (t_an_max - t_an_min)\n",
        "y = annot_norm\n",
        "\n",
        "X_df = pd.DataFrame(X)\n",
        "X_df"
      ],
      "execution_count": 0,
      "outputs": []
    },
    {
      "cell_type": "code",
      "metadata": {
        "id": "p_JRq4tYSdcL",
        "colab_type": "code",
        "colab": {}
      },
      "source": [
        "plt.figure(figsize=(15,10))\n",
        "plt.tight_layout()\n",
        "seabornInstance.distplot(annot)"
      ],
      "execution_count": 0,
      "outputs": []
    },
    {
      "cell_type": "code",
      "metadata": {
        "id": "yeNzQUVgdnKk",
        "colab_type": "code",
        "colab": {}
      },
      "source": [
        "plt.plot(features_file.loc[:,'rolloff'], annotations.loc[:, ' arousal_mean'], 'o')   \n",
        "plt.show()"
      ],
      "execution_count": 0,
      "outputs": []
    },
    {
      "cell_type": "code",
      "metadata": {
        "id": "M950RInumvsW",
        "colab_type": "code",
        "colab": {}
      },
      "source": [
        "#Using Pearson Correlation\n",
        "database = pd.read_csv('/content/features_annotations.csv')\n",
        "plt.figure(figsize=(20,12))\n",
        "cor = database.corr()\n",
        "sns.heatmap(cor, annot=True, cmap=plt.cm.Reds)\n",
        "plt.show()"
      ],
      "execution_count": 0,
      "outputs": []
    },
    {
      "cell_type": "code",
      "metadata": {
        "id": "lKoFzgU0qdiI",
        "colab_type": "code",
        "colab": {}
      },
      "source": [
        "#Correlation with output variable\n",
        "cor_target = abs(cor[\" valence_mean\"])\n",
        "#Selecting highly correlated features\n",
        "relevant_features = cor_target[cor_target>0.5]\n",
        "relevant_features"
      ],
      "execution_count": 0,
      "outputs": []
    },
    {
      "cell_type": "code",
      "metadata": {
        "id": "_QkxCIFRqzEa",
        "colab_type": "code",
        "colab": {}
      },
      "source": [
        "print(database[[\"rolloff\",\"spectral_centroid\"]].corr())"
      ],
      "execution_count": 0,
      "outputs": []
    },
    {
      "cell_type": "code",
      "metadata": {
        "id": "rQlx7s0IrPdE",
        "colab_type": "code",
        "colab": {}
      },
      "source": [
        "print(database[[\"rolloff\",\"mfcc1\"]].corr())"
      ],
      "execution_count": 0,
      "outputs": []
    },
    {
      "cell_type": "code",
      "metadata": {
        "id": "88ZcG2nDrSCQ",
        "colab_type": "code",
        "colab": {}
      },
      "source": [
        "print(database[[\"spectral_centroid\",\"mfcc1\"]].corr())"
      ],
      "execution_count": 0,
      "outputs": []
    },
    {
      "cell_type": "code",
      "metadata": {
        "id": "HjRtuOeuW0Ag",
        "colab_type": "code",
        "colab": {}
      },
      "source": [
        "from sklearn.model_selection import train_test_split\n",
        "X_train, X_test, y_train, y_test = train_test_split(X, y, test_size=0.2, random_state=0)"
      ],
      "execution_count": 0,
      "outputs": []
    },
    {
      "cell_type": "code",
      "metadata": {
        "id": "AVPUohShXJxc",
        "colab_type": "code",
        "colab": {}
      },
      "source": [
        "from sklearn.linear_model import LinearRegression \n",
        "regressor = LinearRegression()  \n",
        "regressor.fit(X_train, y_train)"
      ],
      "execution_count": 0,
      "outputs": []
    },
    {
      "cell_type": "code",
      "metadata": {
        "id": "PQ89mqVqaNru",
        "colab_type": "code",
        "colab": {}
      },
      "source": [
        "coeff_df = pd.DataFrame(regressor.coef_, X_df.columns, columns=['Coefficient'])  \n",
        "coeff_df"
      ],
      "execution_count": 0,
      "outputs": []
    },
    {
      "cell_type": "code",
      "metadata": {
        "id": "TCw5vNA5jNPJ",
        "colab_type": "code",
        "colab": {}
      },
      "source": [
        "y_pred = regressor.predict(X_test)"
      ],
      "execution_count": 0,
      "outputs": []
    },
    {
      "cell_type": "code",
      "metadata": {
        "id": "JMt-K-fojfhC",
        "colab_type": "code",
        "colab": {}
      },
      "source": [
        "df = pd.DataFrame({'Actual': y_test, 'Predicted': y_pred})\n",
        "\n",
        "df.head(15)"
      ],
      "execution_count": 0,
      "outputs": []
    },
    {
      "cell_type": "code",
      "metadata": {
        "id": "DAc71ujx8LhD",
        "colab_type": "code",
        "colab": {}
      },
      "source": [
        "def compute_metrics(y_tested,y_predicted):\n",
        "  mse = sklearn.metrics.mean_squared_error(y_tested, y_predicted)\n",
        "  r2 = sklearn.metrics.r2_score(y_tested, y_predicted)\n",
        "  print(\"Results : \\n MSE = {} \\n R2 = {} \\n\".format(mse, r2))"
      ],
      "execution_count": 0,
      "outputs": []
    },
    {
      "cell_type": "code",
      "metadata": {
        "id": "ja8sA9jRlwHt",
        "colab_type": "code",
        "colab": {}
      },
      "source": [
        "compute_metrics(y_test,y_pred)"
      ],
      "execution_count": 0,
      "outputs": []
    },
    {
      "cell_type": "code",
      "metadata": {
        "id": "7OuSCdh4Z7IU",
        "colab_type": "code",
        "colab": {}
      },
      "source": [
        ""
      ],
      "execution_count": 0,
      "outputs": []
    }
  ]
}