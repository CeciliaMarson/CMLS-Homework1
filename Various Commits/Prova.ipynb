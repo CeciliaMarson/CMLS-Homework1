{
  "nbformat": 4,
  "nbformat_minor": 0,
  "metadata": {
    "colab": {
      "name": "Prova.ipynb",
      "provenance": [],
      "authorship_tag": "ABX9TyMUlZfUG8D+BBrnQ/sNhQIE",
      "include_colab_link": true
    },
    "kernelspec": {
      "name": "python3",
      "display_name": "Python 3"
    }
  },
  "cells": [
    {
      "cell_type": "markdown",
      "metadata": {
        "id": "view-in-github",
        "colab_type": "text"
      },
      "source": [
        "<a href=\"https://colab.research.google.com/github/CeciliaMarson/CMLS-Homework1/blob/master/Prova.ipynb\" target=\"_parent\"><img src=\"https://colab.research.google.com/assets/colab-badge.svg\" alt=\"Open In Colab\"/></a>"
      ]
    },
    {
      "cell_type": "code",
      "metadata": {
        "id": "RUS94_pMG4Nl",
        "colab_type": "code",
        "outputId": "c6023dfa-704d-447a-be03-f43c84227c1f",
        "colab": {
          "base_uri": "https://localhost:8080/",
          "height": 35
        }
      },
      "source": [
        "print('Homework 1-Assigment 5')"
      ],
      "execution_count": 0,
      "outputs": [
        {
          "output_type": "stream",
          "text": [
            "Homework 1-Assigment 5\n"
          ],
          "name": "stdout"
        }
      ]
    }
  ]
}
