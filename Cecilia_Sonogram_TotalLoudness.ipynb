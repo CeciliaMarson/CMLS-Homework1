{
  "nbformat": 4,
  "nbformat_minor": 0,
  "metadata": {
    "colab": {
      "name": "Cecilia-Sonogram_TotalLoudness.ipynb",
      "provenance": [],
      "authorship_tag": "ABX9TyNkC+JrzLA4TXLIizGagU1K",
      "include_colab_link": true
    },
    "kernelspec": {
      "name": "python3",
      "display_name": "Python 3"
    }
  },
  "cells": [
    {
      "cell_type": "markdown",
      "metadata": {
        "id": "view-in-github",
        "colab_type": "text"
      },
      "source": [
        "<a href=\"https://colab.research.google.com/github/CeciliaMarson/CMLS-Homework1/blob/master/Cecilia_Sonogram_TotalLoudness.ipynb\" target=\"_parent\"><img src=\"https://colab.research.google.com/assets/colab-badge.svg\" alt=\"Open In Colab\"/></a>"
      ]
    },
    {
      "cell_type": "code",
      "metadata": {
        "id": "Fzpbb3CbvjYm",
        "colab_type": "code",
        "colab": {}
      },
      "source": [
        "import numpy as np\n",
        "import librosa\n",
        "import os\n",
        "import matplotlib.pyplot as plt\n",
        "import sklearn.svm\n",
        "import IPython.display as ipd\n",
        "import scipy as sp\n",
        "import pandas as pd\n",
        "from sklearn import datasets\n",
        "import math\n",
        "import csv\n",
        "import pylab"
      ],
      "execution_count": 0,
      "outputs": []
    },
    {
      "cell_type": "code",
      "metadata": {
        "id": "n-ETPIIOvs5A",
        "colab_type": "code",
        "colab": {}
      },
      "source": [
        "fft_window_size=1024\n",
        "freq_axis = float(fs)/fft_window_size * np.arange(0,(fft_window_size/2) + 1)\n",
        "\n",
        "# border definitions of the 24 critical bands of hearing\n",
        "bark = [100,   200,  300,  400,  510,  630,   770,   920, \n",
        "        1080, 1270, 1480, 1720, 2000, 2320,  2700,  3150,\n",
        "        3700, 4400, 5300, 6400, 7700, 9500, 12000, 15500]\n",
        "\n",
        "eq_loudness = np.array(\n",
        "    [[ 55,   40,  32,  24,  19,  14, 10,  6,  4,  3,  2,  \n",
        "        2,    0,  -2,  -5,  -4,   0,  5, 10, 14, 25, 35], \n",
        "     [ 66,   52,  43,  37,  32,  27, 23, 21, 20, 20, 20,  \n",
        "       20,   19,  16,  13,  13,  18, 22, 25, 30, 40, 50], \n",
        "     [ 76,   64,  57,  51,  47,  43, 41, 41, 40, 40, 40,\n",
        "     39.5, 38,  35,  33,  33,  35, 41, 46, 50, 60, 70], \n",
        "     [ 89,   79,  74,  70,  66,  63, 61, 60, 60, 60, 60,  \n",
        "       59,   56,  53,  52,  53,  56, 61, 65, 70, 80, 90], \n",
        "     [103,   96,  92,  88,  85,  83, 81, 80, 80, 80, 80,  \n",
        "       79,   76,  72,  70,  70,  75, 79, 83, 87, 95,105], \n",
        "     [118,  110, 107, 105, 103, 102,101,100,100,100,100,  \n",
        "       99,   97,  94,  90,  90,  95,100,103,105,108,115]])\n",
        "\n",
        "loudn_freq = np.array(\n",
        "    [31.62,   50,  70.7,   100, 141.4,   200, 316.2,  500, \n",
        "     707.1, 1000,  1414,  1682,  2000,  2515,  3162, 3976,\n",
        "     5000,  7071, 10000, 11890, 14140, 15500])\n",
        "\n",
        "# calculate bark-filterbank\n",
        "loudn_bark = np.zeros((eq_loudness.shape[0], len(bark)))\n",
        "\n",
        "i = 0\n",
        "j = 0\n",
        "\n",
        "for bsi in bark:\n",
        "\n",
        "    while j < len(loudn_freq) and bsi > loudn_freq[j]:\n",
        "        j += 1\n",
        "    \n",
        "    j -= 1\n",
        "    \n",
        "    if np.where(loudn_freq == bsi)[0].size != 0: # loudness value for this frequency already exists\n",
        "        loudn_bark[:,i] = eq_loudness[:,np.where(loudn_freq == bsi)][:,0,0]\n",
        "    else:\n",
        "        w1 = 1 / np.abs(loudn_freq[j] - bsi)\n",
        "        w2 = 1 / np.abs(loudn_freq[j + 1] - bsi)\n",
        "        loudn_bark[:,i] = (eq_loudness[:,j]*w1 + eq_loudness[:,j+1]*w2) / (w1 + w2)\n",
        "    \n",
        "    i += 1"
      ],
      "execution_count": 0,
      "outputs": []
    },
    {
      "cell_type": "code",
      "metadata": {
        "id": "ohEsnbD5YBQY",
        "colab_type": "code",
        "colab": {}
      },
      "source": [
        "def compute_sonogram(audio,fs,m_fft):\n",
        "   # Compute the spectrogram of the audio signal\n",
        "    X = np.abs(librosa.stft(\n",
        "        audio,\n",
        "        window='hamming',\n",
        "        n_fft=1024,\n",
        "        hop_length=int(m_fft//2),)\n",
        "        )\n",
        "    \n",
        "    #shape into the bark scale\n",
        "    matrix = np.zeros((len(bark),X.shape[1]))\n",
        "\n",
        "    barks = bark[:]\n",
        "    barks.insert(0,0)\n",
        "\n",
        "    for i in range(len(barks)-1):\n",
        "      matrix[i] = np.sum(X[((freq_axis >= barks[i]) & (freq_axis < barks[i+1]))], axis=0)\n",
        "    matrix[np.where(matrix < 1)] = 1\n",
        "\n",
        "    #scale to decibel\n",
        "\n",
        "    matrix = 10 * np.log10(matrix)\n",
        "\n",
        "    #scale to sone\n",
        "\n",
        "    idx     = np.where(matrix >= 40)\n",
        "    not_idx = np.where(matrix < 40)\n",
        "\n",
        "    matrix[idx]     =  2**((matrix[idx]-40)/10)\n",
        "    matrix[not_idx] =  (matrix[not_idx]/40)**2.642\n",
        "\n",
        "    return matrix\n"
      ],
      "execution_count": 0,
      "outputs": []
    },
    {
      "cell_type": "code",
      "metadata": {
        "id": "rNuEu9YOYEuo",
        "colab_type": "code",
        "colab": {}
      },
      "source": [
        "\n",
        "def total_loudness(sone,n_audio_f):\n",
        "  other=np.zeros([24,n_audio_f])\n",
        "  tl=np.zeros(n_audio_f)\n",
        "  for i in range(n_audio_f):\n",
        "    max_f=np.argmax(sone[:,i])\n",
        "    for n in range(24):\n",
        "      if n!=max_f:\n",
        "        other[n,i]=sone[n,i]*0.15\n",
        "    tl[i]=sone[max_f,i]+np.sum(other[:,i])\n",
        "  return tl"
      ],
      "execution_count": 0,
      "outputs": []
    }
  ]
}
