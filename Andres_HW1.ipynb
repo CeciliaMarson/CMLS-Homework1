{
  "nbformat": 4,
  "nbformat_minor": 0,
  "metadata": {
    "colab": {
      "name": "HW1.ipynb",
      "provenance": [],
      "collapsed_sections": [],
      "toc_visible": true,
      "authorship_tag": "ABX9TyM1mQQlgxzwsAIOSQ58cSwo",
      "include_colab_link": true
    },
    "kernelspec": {
      "name": "python3",
      "display_name": "Python 3"
    }
  },
  "cells": [
    {
      "cell_type": "markdown",
      "metadata": {
        "id": "view-in-github",
        "colab_type": "text"
      },
      "source": [
        "<a href=\"https://colab.research.google.com/github/CeciliaMarson/CMLS-Homework1/blob/master/Andres_HW1.ipynb\" target=\"_parent\"><img src=\"https://colab.research.google.com/assets/colab-badge.svg\" alt=\"Open In Colab\"/></a>"
      ]
    },
    {
      "cell_type": "markdown",
      "metadata": {
        "id": "SMUKPMrO2Oo0",
        "colab_type": "text"
      },
      "source": [
        "# Assignment 5"
      ]
    },
    {
      "cell_type": "code",
      "metadata": {
        "id": "IDduDMY92Bqz",
        "colab_type": "code",
        "colab": {}
      },
      "source": [
        "import numpy as np\n",
        "import librosa\n",
        "import os\n",
        "import matplotlib.pyplot as plt\n",
        "import sklearn.svm\n",
        "import IPython.display as ipd\n",
        "import scipy as sp\n",
        "import pandas as pd"
      ],
      "execution_count": 0,
      "outputs": []
    },
    {
      "cell_type": "code",
      "metadata": {
        "id": "LqOEvE1y2IZV",
        "colab_type": "code",
        "colab": {}
      },
      "source": [
        "!wget --no-check-certificate -r \"http://cvml.unige.ch/databases/DEAM/\""
      ],
      "execution_count": 0,
      "outputs": []
    },
    {
      "cell_type": "code",
      "metadata": {
        "id": "NWVzJK_B2KEt",
        "colab_type": "code",
        "colab": {}
      },
      "source": [
        "!unzip \"cvml.unige.ch/databases/DEAM/DEAM_audio.zip\"\n",
        "!unzip \"cvml.unige.ch/databases/DEAM/DEAM_Annotations.zip\"\n",
        "!unzip \"cvml.unige.ch/databases/DEAM/features.zip\""
      ],
      "execution_count": 0,
      "outputs": []
    },
    {
      "cell_type": "markdown",
      "metadata": {
        "id": "-SwDDwQmXJGt",
        "colab_type": "text"
      },
      "source": [
        "# Get outputs and features from songs and compute the mean"
      ]
    },
    {
      "cell_type": "markdown",
      "metadata": {
        "id": "Go7EOMumzQnK",
        "colab_type": "text"
      },
      "source": [
        "Get output values train\n"
      ]
    },
    {
      "cell_type": "code",
      "metadata": {
        "id": "aRoiWynSi-eE",
        "colab_type": "code",
        "colab": {}
      },
      "source": [
        "cols = [' valence_mean',' arousal_mean'] # names of mean columns in annotations file\n",
        "arousal = [' arousal_mean'] # name of arousal mean columns in annotations file\n",
        "valence = [' valence_mean'] # name of valence mean columns in annotations file\n",
        "\n",
        "# get dataframe from annotations file\n",
        "annotations = pd.read_csv('/content/annotations/annotations averaged per song/song_level/static_annotations_averaged_songs_1_2000.csv')\n",
        "\n",
        "song_ids = annotations['song_id'] # get first column from dataframe\n",
        "s_id = np.array(song_ids) # change first column from dataframe into numpy array\n"
      ],
      "execution_count": 0,
      "outputs": []
    },
    {
      "cell_type": "code",
      "metadata": {
        "id": "8QcWUmO-jBJm",
        "colab_type": "code",
        "colab": {}
      },
      "source": [
        "feats = os.listdir('features') # get list of all files inside features folder\n",
        "feat_song_id = [s.strip('.csv') for s in feats] # get list of names (without file type) of files from features folder\n"
      ],
      "execution_count": 0,
      "outputs": []
    },
    {
      "cell_type": "code",
      "metadata": {
        "id": "qMQ3nK9ejoS0",
        "colab_type": "code",
        "colab": {}
      },
      "source": [
        "# get numpy array of file names that are equal in both features folder and annotations file\n",
        "same_song_id = np.intersect1d(s_id, feat_song_id)\n",
        "same_song_id_l = same_song_id.tolist()\n",
        "same_song_id_l.sort(key=int)\n",
        "same_song_id_arr = np.array(same_song_id_l)\n",
        "same_song = same_song_id_arr.reshape(len(same_song_id_arr),1)\n"
      ],
      "execution_count": 0,
      "outputs": []
    },
    {
      "cell_type": "code",
      "metadata": {
        "id": "6t4CU5u7x6x5",
        "colab_type": "code",
        "colab": {}
      },
      "source": [
        "# separate song ids randomly into a train set and a test set with a 80/20 ratio respectively\n",
        "id_train, id_test = sklearn.model_selection.train_test_split(same_song_id_arr, test_size=0.2, random_state=42)\n",
        "# id_train = 1395 #\n",
        "# id_test = 349  #\n",
        "id_train_l = id_train.tolist()\n",
        "id_train_l.sort(key=int)\n",
        "id_train_arr = np.array(id_train_l)\n",
        "\n",
        "id_test_l = id_test.tolist()\n",
        "id_test_l.sort(key=int)\n",
        "id_test_arr = np.array(id_test_l)\n"
      ],
      "execution_count": 0,
      "outputs": []
    },
    {
      "cell_type": "code",
      "metadata": {
        "id": "8Vs1C5wWYARM",
        "colab_type": "code",
        "colab": {}
      },
      "source": [
        "audio_root = '/content/MEMD_audio/' # root path of audio files\n",
        "audio_files = [n + '.mp3' for n in same_song_id_l] # audio files sorted from low to high\n",
        "\n",
        "audio_path = []\n",
        "for f in audio_files:\n",
        "  audio_path.append(os.path.join(audio_root, f)) # audio files path from dataset\n",
        "\n",
        "audio_path_samples = len(audio_path)\n"
      ],
      "execution_count": 0,
      "outputs": []
    },
    {
      "cell_type": "code",
      "metadata": {
        "id": "QpbntAokJ4oc",
        "colab_type": "code",
        "colab": {}
      },
      "source": [
        "# function to compute tempo and onset strenght features\n",
        "def compute_feats(audio, fs):\n",
        "  onset_st = librosa.onset.onset_strength(audio,fs) # onset strenght method\n",
        "  bpm = librosa.beat.tempo(audio, fs) # tempo method\n",
        "\n",
        "  return onset_st, bpm\n"
      ],
      "execution_count": 0,
      "outputs": []
    },
    {
      "cell_type": "code",
      "metadata": {
        "id": "qDQ8MbdkGox9",
        "colab_type": "code",
        "colab": {}
      },
      "source": [
        "t_fts = np.zeros((audio_path_samples,2)) # array where new features will be saved\n",
        "for index, f in enumerate(audio_path):\n",
        "    audio, fs = librosa.load(f, sr=None)\n",
        "    onset_st, bpm = compute_feats(audio, fs) # obtain new features from each audio file\n",
        "    t_fts[index, 0] = np.mean(onset_st) # save mean of onset strenght feature into first column of array\n",
        "    t_fts[index, 1] = bpm # save tempo into second column of array\n"
      ],
      "execution_count": 0,
      "outputs": []
    },
    {
      "cell_type": "code",
      "metadata": {
        "id": "AufA_JTlNgvQ",
        "colab_type": "code",
        "colab": {}
      },
      "source": [
        "new_feats = np.append(same_song, t_fts, axis=1) # add column to new features array to have song id's\n",
        "\n",
        "np.savetxt('onset_and_tempo.csv', new_feats, fmt='%s', delimiter=',') # save computed features into csv file in order not to compute them again (takes a long time)\n"
      ],
      "execution_count": 0,
      "outputs": []
    },
    {
      "cell_type": "code",
      "metadata": {
        "id": "3uCC1z2MzjEr",
        "colab_type": "code",
        "colab": {}
      },
      "source": [
        "train_t_fts = t_fts[0:1395] # use first 1395 sample for training\n",
        "test_t_fts = t_fts[1395:1744] # use remaining samples for testing\n",
        "\n",
        "arousal_annts = annotations[' arousal_std'] # get [' ...'] column from annotations (output values)\n",
        "train_ars = arousal_annts[0:1395] # training values\n",
        "test_ars = arousal_annts[1395:1744] # testing values\n"
      ],
      "execution_count": 0,
      "outputs": []
    },
    {
      "cell_type": "markdown",
      "metadata": {
        "id": "M10w_VqQKWsr",
        "colab_type": "text"
      },
      "source": [
        "Normalization"
      ]
    },
    {
      "cell_type": "code",
      "metadata": {
        "id": "SRXGWrs6BI7T",
        "colab_type": "code",
        "colab": {}
      },
      "source": [
        "t_ft_max = np.max(train_t_fts, axis=0)\n",
        "t_ft_min = np.min(train_t_fts, axis=0)\n",
        "train_t_fts_norm = (train_t_fts - t_ft_min) / (t_ft_max - t_ft_min)\n",
        "test_t_fts_norm = (test_t_fts - t_ft_min) / (t_ft_max - t_ft_min)"
      ],
      "execution_count": 0,
      "outputs": []
    },
    {
      "cell_type": "markdown",
      "metadata": {
        "id": "vMmrxxWOKayn",
        "colab_type": "text"
      },
      "source": [
        "Regressor"
      ]
    },
    {
      "cell_type": "code",
      "metadata": {
        "id": "xsIq-wqPBeZx",
        "colab_type": "code",
        "colab": {
          "base_uri": "https://localhost:8080/",
          "height": 33
        },
        "outputId": "169a3894-b3b5-4002-cd0c-d7e86f60a418"
      },
      "source": [
        "reg_temp_ons = sklearn.linear_model.LinearRegression(normalize=True)\n",
        "reg_temp_ons.fit(train_t_fts_norm, train_ars)\n"
      ],
      "execution_count": 206,
      "outputs": [
        {
          "output_type": "execute_result",
          "data": {
            "text/plain": [
              "LinearRegression(copy_X=True, fit_intercept=True, n_jobs=None, normalize=True)"
            ]
          },
          "metadata": {
            "tags": []
          },
          "execution_count": 206
        }
      ]
    },
    {
      "cell_type": "markdown",
      "metadata": {
        "id": "dD8aV2xGKejh",
        "colab_type": "text"
      },
      "source": [
        "Prediction and error values"
      ]
    },
    {
      "cell_type": "code",
      "metadata": {
        "id": "B4jloTw0B02p",
        "colab_type": "code",
        "colab": {
          "base_uri": "https://localhost:8080/",
          "height": 82
        },
        "outputId": "8b81ee95-1630-470d-b0d0-773061b39bd7"
      },
      "source": [
        "reg_temp_ons_predict = reg_temp_ons.predict(test_t_fts_norm)\n",
        "\n",
        "compute_metrics(test_ars,reg_temp_ons_predict)\n"
      ],
      "execution_count": 208,
      "outputs": [
        {
          "output_type": "stream",
          "text": [
            "Results : \n",
            " MSE = 0.11983555708109095 \n",
            " R2 = -0.005558624649739885 \n",
            "\n"
          ],
          "name": "stdout"
        }
      ]
    },
    {
      "cell_type": "markdown",
      "metadata": {
        "id": "wI-6riDtKjUt",
        "colab_type": "text"
      },
      "source": [
        "#Use given features to see if model behaves differently"
      ]
    },
    {
      "cell_type": "markdown",
      "metadata": {
        "id": "5qROr9PF7ZWZ",
        "colab_type": "text"
      },
      "source": [
        "Training set"
      ]
    },
    {
      "cell_type": "code",
      "metadata": {
        "id": "zj5w_w5lpmNg",
        "colab_type": "code",
        "colab": {}
      },
      "source": [
        "train_files = [i + \".csv\" for i in id_train_arr] # list with file name in features folder of train set\n",
        "\n",
        "path_train_files = [os.path.join('/content/features',p) for p in train_files] # list with file path of train set\n"
      ],
      "execution_count": 0,
      "outputs": []
    },
    {
      "cell_type": "code",
      "metadata": {
        "id": "qIHTQV7Fsczl",
        "colab_type": "code",
        "colab": {}
      },
      "source": [
        "feats_params = ['pcm_RMSenergy_sma_amean','pcm_zcr_sma_amean','pcm_fftMag_spectralRollOff25.0_sma_amean','pcm_fftMag_spectralRollOff50.0_sma_amean',\n",
        "                'pcm_fftMag_spectralRollOff75.0_sma_amean','pcm_fftMag_spectralRollOff90.0_sma_amean','pcm_fftMag_spectralFlux_sma_amean',\n",
        "                'pcm_fftMag_spectralCentroid_sma_amean','pcm_fftMag_mfcc_sma[1]_amean','pcm_fftMag_mfcc_sma[2]_amean','pcm_fftMag_mfcc_sma[3]_amean',\n",
        "                'pcm_fftMag_mfcc_sma[4]_amean','pcm_fftMag_mfcc_sma[5]_amean','pcm_fftMag_mfcc_sma[6]_amean','pcm_fftMag_mfcc_sma[7]_amean',\n",
        "                'pcm_fftMag_mfcc_sma[8]_amean','pcm_fftMag_mfcc_sma[9]_amean','pcm_fftMag_mfcc_sma[10]_amean','pcm_fftMag_mfcc_sma[11]_amean',\n",
        "                'pcm_fftMag_mfcc_sma[12]_amean','pcm_fftMag_mfcc_sma[13]_amean','pcm_fftMag_mfcc_sma[14]_amean']\n",
        "\n",
        "\n",
        "############################## train inputs ####################################\n",
        "\n",
        "feats_train_stats = []\n",
        "for f in path_train_files:\n",
        "  ufl_train_feats = pd.read_csv(f, sep=\";\", usecols=feats_params)\n",
        "  feats_train_stats.append(ufl_train_feats.mean()) # has all the mean values for each parameter in each train file\n"
      ],
      "execution_count": 0,
      "outputs": []
    },
    {
      "cell_type": "code",
      "metadata": {
        "id": "Ye5-GY6ytMnt",
        "colab_type": "code",
        "colab": {}
      },
      "source": [
        "train_feats = np.array(feats_train_stats) # numpy array of features statistics, each row is one song, each column a feature\n",
        "\n",
        "############################### train outputs ##################################\n",
        "arousal_mean_all = annotations[[' arousal_mean']] # get annotations of song id and arousal mean values only\n",
        "arousal_std_all = annotations[[' arousal_std']] # get annotations of song id and arousal std values only\n",
        "valence_mean_all = annotations[[' valence_mean']] # get annotations of song id and valence mean values only\n",
        "valence_std_all = annotations[[' valence_std']] # get annotations of song id and valence std values only\n",
        "\n",
        "train_index = annotations.index[annotations['song_id'].isin(id_train_arr)].tolist() # get indeces of the song ids which are equal to the train set\n",
        "\n",
        "arousal_mean_train = []\n",
        "arousal_std_train = []\n",
        "valence_mean_train = []\n",
        "valence_std_train = []\n",
        "for i in train_index:\n",
        "  arousal_mean_train.append(arousal_mean_all.iloc[i][-1].astype(float)) # mean arousal values for all id_train songs\n",
        "  arousal_std_train.append(arousal_std_all.iloc[i][-1].astype(float)) # std arousal values for all id_train songs\n",
        "  valence_mean_train.append(valence_mean_all.iloc[i][-1].astype(float)) # mean valence values for all id_train songs\n",
        "  valence_std_train.append(valence_std_all.iloc[i][-1].astype(float)) # std valence values for all id_train songs\n"
      ],
      "execution_count": 0,
      "outputs": []
    },
    {
      "cell_type": "markdown",
      "metadata": {
        "id": "5avy3IXu7ewq",
        "colab_type": "text"
      },
      "source": [
        "Test set"
      ]
    },
    {
      "cell_type": "code",
      "metadata": {
        "id": "WeTic3327SIw",
        "colab_type": "code",
        "colab": {}
      },
      "source": [
        "test_files = [i + \".csv\" for i in id_test_arr] # list with file name in features folder of test set\n",
        "\n",
        "path_test_files = [os.path.join('/content/features',p) for p in test_files] # list with file path of test set\n"
      ],
      "execution_count": 0,
      "outputs": []
    },
    {
      "cell_type": "code",
      "metadata": {
        "id": "66-ad-fh8fip",
        "colab_type": "code",
        "colab": {}
      },
      "source": [
        "############################## test inputs #####################################\n",
        "feats_test_stats = []\n",
        "for f in path_test_files:\n",
        "  ufl_test_feats = pd.read_csv(f, sep=\";\", usecols=feats_params)\n",
        "  feats_test_stats.append(ufl_test_feats.mean()) # has all the mean values for each parameter in each test file"
      ],
      "execution_count": 0,
      "outputs": []
    },
    {
      "cell_type": "code",
      "metadata": {
        "id": "-9VxOtv988y4",
        "colab_type": "code",
        "colab": {}
      },
      "source": [
        "test_feats = np.array(feats_test_stats) # numpy array of features statistics, each row is one song, each column a feature\n",
        "\n",
        "############################### test outputs ###################################\n",
        "\n",
        "test_index = annotations.index[annotations['song_id'].isin(id_test_arr)].tolist() # get indeces of the song ids which are equal to the train set\n",
        "#arousal_train = [arousal_all.loc[i] for i in id_train]\n",
        "\n",
        "arousal_mean_test = []\n",
        "arousal_std_test = []\n",
        "valence_mean_test = []\n",
        "valence_std_test = []\n",
        "for i in test_index:\n",
        "  arousal_mean_test.append(arousal_mean_all.iloc[i][-1].astype(float)) # mean arousal values for all id_train songs\n",
        "  arousal_std_test.append(arousal_std_all.iloc[i][-1].astype(float)) # std arousal values for all id_train songs\n",
        "  valence_mean_test.append(valence_mean_all.iloc[i][-1].astype(float)) # mean valence values for all id_train songs\n",
        "  valence_std_test.append(valence_std_all.iloc[i][-1].astype(float)) # std valence values for all id_train songs\n"
      ],
      "execution_count": 0,
      "outputs": []
    },
    {
      "cell_type": "markdown",
      "metadata": {
        "id": "gdzU79eo-j9g",
        "colab_type": "text"
      },
      "source": [
        "Normalization"
      ]
    },
    {
      "cell_type": "code",
      "metadata": {
        "id": "wW6UlNRW-mPw",
        "colab_type": "code",
        "colab": {}
      },
      "source": [
        "ft_max = np.max(train_feats, axis=0)\n",
        "ft_min = np.min(train_feats, axis=0)\n",
        "train_feats_norm = (train_feats - ft_min) / (ft_max - ft_min)\n",
        "test_feats_norm = (test_feats - ft_min) / (ft_max - ft_min)"
      ],
      "execution_count": 0,
      "outputs": []
    },
    {
      "cell_type": "markdown",
      "metadata": {
        "id": "t5zIcJvS_xl8",
        "colab_type": "text"
      },
      "source": [
        "Regressors"
      ]
    },
    {
      "cell_type": "code",
      "metadata": {
        "id": "i4ycfvon_zCk",
        "colab_type": "code",
        "outputId": "4a619643-7788-4e33-df4b-19022e0a8dc3",
        "colab": {
          "base_uri": "https://localhost:8080/",
          "height": 33
        }
      },
      "source": [
        "lreg_amean = sklearn.linear_model.LinearRegression(normalize=True)\n",
        "lreg_astd = sklearn.linear_model.LinearRegression(normalize=True)\n",
        "\n",
        "lreg_vmean = sklearn.linear_model.LinearRegression(normalize=True)\n",
        "lreg_vstd = sklearn.linear_model.LinearRegression(normalize=True)\n",
        "\n",
        "\n",
        "lreg_amean.fit(train_feats_norm, arousal_mean_train)\n",
        "lreg_astd.fit(train_feats_norm, arousal_std_train)\n",
        "\n",
        "lreg_vmean.fit(train_feats_norm, valence_mean_train)\n",
        "lreg_vstd.fit(train_feats_norm, valence_std_train)"
      ],
      "execution_count": 218,
      "outputs": [
        {
          "output_type": "execute_result",
          "data": {
            "text/plain": [
              "LinearRegression(copy_X=True, fit_intercept=True, n_jobs=None, normalize=True)"
            ]
          },
          "metadata": {
            "tags": []
          },
          "execution_count": 218
        }
      ]
    },
    {
      "cell_type": "code",
      "metadata": {
        "id": "AKWkY95eApaA",
        "colab_type": "code",
        "colab": {}
      },
      "source": [
        "lreg_amean_predict = lreg_amean.predict(test_feats_norm)\n",
        "lreg_amean_predict_l = lreg_amean_predict.tolist()\n",
        "\n",
        "lreg_astd_predict = lreg_astd.predict(test_feats_norm)\n",
        "\n",
        "lreg_vmean_predict = lreg_vmean.predict(test_feats_norm)\n",
        "\n",
        "lreg_vstd_predict = lreg_vstd.predict(test_feats_norm)"
      ],
      "execution_count": 0,
      "outputs": []
    },
    {
      "cell_type": "code",
      "metadata": {
        "id": "zkqbvdx7qDU9",
        "colab_type": "code",
        "colab": {}
      },
      "source": [
        "def compute_metrics(y_tested,y_predicted):\n",
        "  mse = sklearn.metrics.mean_squared_error(y_tested, y_predicted)\n",
        "  r2 = sklearn.metrics.r2_score(y_tested, y_predicted)\n",
        "  print(\"Results : \\n MSE = {} \\n R2 = {} \\n\".format(mse, r2))\n"
      ],
      "execution_count": 0,
      "outputs": []
    },
    {
      "cell_type": "code",
      "metadata": {
        "id": "dtRLdOO6Fhly",
        "colab_type": "code",
        "outputId": "5e6414c9-bdc3-4c67-e58a-5ab688ac29f3",
        "colab": {
          "base_uri": "https://localhost:8080/",
          "height": 277
        }
      },
      "source": [
        "compute_metrics(arousal_mean_test,lreg_amean_predict)\n",
        "\n",
        "compute_metrics(arousal_std_test,lreg_astd_predict)\n",
        "\n",
        "compute_metrics(valence_mean_test,lreg_vmean_predict)\n",
        "\n",
        "compute_metrics(valence_std_test,lreg_vstd_predict)"
      ],
      "execution_count": 221,
      "outputs": [
        {
          "output_type": "stream",
          "text": [
            "Results : \n",
            " MSE = 0.9902794820886152 \n",
            " R2 = 0.38716058546924415 \n",
            "\n",
            "Results : \n",
            " MSE = 0.13459126348922243 \n",
            " R2 = -0.010933330224322857 \n",
            "\n",
            "Results : \n",
            " MSE = 0.7711804540935766 \n",
            " R2 = 0.4158791965344998 \n",
            "\n",
            "Results : \n",
            " MSE = 0.1251682767190717 \n",
            " R2 = 0.016216817889952773 \n",
            "\n"
          ],
          "name": "stdout"
        }
      ]
    }
  ]
}
